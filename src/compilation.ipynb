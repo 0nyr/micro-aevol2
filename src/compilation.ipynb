{
 "cells": [
  {
   "cell_type": "markdown",
   "metadata": {},
   "source": [
    "# Compiling the different versions of Micro-Aevol 2"
   ]
  },
  {
   "cell_type": "code",
   "execution_count": 9,
   "metadata": {},
   "outputs": [
    {
     "name": "stdout",
     "output_type": "stream",
     "text": [
      "Kokkos_DIR=/home/onyr/Kokkos/kokkos_install/lib/cmake/Kokkos\n"
     ]
    }
   ],
   "source": [
    "import os\n",
    "import subprocess\n",
    "\n",
    "KOKKOS_LIB_CMAKE = \"Kokkos_DIR={0}/lib/cmake/Kokkos\".format(os.environ.get(\"KOKKOS_INSTALL_DIR\"))\n",
    "print(KOKKOS_LIB_CMAKE)\n",
    "\n",
    "EXE_NAME = \"micro_aevol_kokkos\""
   ]
  },
  {
   "cell_type": "code",
   "execution_count": 10,
   "metadata": {},
   "outputs": [
    {
     "name": "stdout",
     "output_type": "stream",
     "text": [
      "['aevol_0', 'aevol_1', 'aevol_2', 'aevol_3', 'aevol_4', 'aevol_5', 'aevol_6', 'aevol_kokkos_gpu_broken']\n"
     ]
    }
   ],
   "source": [
    "# parameters\n",
    "experiment_params = {\n",
    "    \"dna_sizes\": [100, 250], # size of DNA\n",
    "    \"mutation_rates\": [0.000001, 0.00001], # mutation rate\n",
    "    \"world_sizes\": [32, 64], # size of the world\n",
    "}\n",
    "\n",
    "# get project names from dirs in ./aevols directory\n",
    "project_names = [d for d in os.listdir(\"./aevols\") if os.path.isdir(os.path.join(\"./aevols\", d))]\n",
    "project_names.sort()\n",
    "print(project_names)\n",
    "nb_host_threads = 14"
   ]
  },
  {
   "cell_type": "markdown",
   "metadata": {},
   "source": [
    "### Prepare tracing"
   ]
  },
  {
   "cell_type": "code",
   "execution_count": 11,
   "metadata": {},
   "outputs": [],
   "source": [
    "csv_result_file = \"stats.csv\"\n",
    "csv_headers = {\n",
    "    'world_size_width': int,\n",
    "    'world_size_height': int,\n",
    "    'dna_size': int,\n",
    "    'mutation_rate': float,\n",
    "    'nb_generations': int,\n",
    "    'runtime' : float\n",
    "}\n",
    "\n",
    "repeats = 5"
   ]
  },
  {
   "cell_type": "code",
   "execution_count": 12,
   "metadata": {},
   "outputs": [],
   "source": [
    "import os\n",
    "import subprocess\n",
    "\n",
    "def create_csv_file(dirpath: str):\n",
    "    filepath = dirpath + csv_result_file\n",
    "    print(f\"Creating NEW CSV file ({filepath})\")\n",
    "    f = open(filepath, \"w\")\n",
    "    f.write(\",\".join(csv_headers.keys()) + \"\\n\")\n",
    "    f.close()\n",
    "\n",
    "def clean_and_mkdir(dirpath: str):\n",
    "    if not os.path.exists(dirpath):\n",
    "        os.makedirs(dirpath)\n",
    "    else:\n",
    "        print(f\"{dirpath} directory already exists\")\n",
    "        print(f\"removing previous {dirpath} directory\")\n",
    "        subprocess.run([\"rm\", \"-rf\", dirpath])\n",
    "        os.makedirs(dirpath)"
   ]
  },
  {
   "attachments": {},
   "cell_type": "markdown",
   "metadata": {},
   "source": [
    "### ⚠ Danger zone ⚠"
   ]
  },
  {
   "cell_type": "code",
   "execution_count": 116,
   "metadata": {},
   "outputs": [
    {
     "name": "stdout",
     "output_type": "stream",
     "text": [
      "./aevols/aevol_0/stats/ directory already exists\n",
      "removing previous ./aevols/aevol_0/stats/ directory\n",
      "Creating NEW CSV file (./aevols/aevol_0/stats/stats.csv)\n",
      "./aevols/aevol_1/stats/ directory already exists\n",
      "removing previous ./aevols/aevol_1/stats/ directory\n",
      "Creating NEW CSV file (./aevols/aevol_1/stats/stats.csv)\n",
      "./aevols/aevol_2/stats/ directory already exists\n",
      "removing previous ./aevols/aevol_2/stats/ directory\n",
      "Creating NEW CSV file (./aevols/aevol_2/stats/stats.csv)\n",
      "./aevols/aevol_3/stats/ directory already exists\n",
      "removing previous ./aevols/aevol_3/stats/ directory\n",
      "Creating NEW CSV file (./aevols/aevol_3/stats/stats.csv)\n",
      "./aevols/aevol_4/stats/ directory already exists\n",
      "removing previous ./aevols/aevol_4/stats/ directory\n",
      "Creating NEW CSV file (./aevols/aevol_4/stats/stats.csv)\n",
      "./aevols/aevol_5/stats/ directory already exists\n",
      "removing previous ./aevols/aevol_5/stats/ directory\n",
      "Creating NEW CSV file (./aevols/aevol_5/stats/stats.csv)\n"
     ]
    }
   ],
   "source": [
    "# clean, create dir and create csv file\n",
    "for project_name in project_names:\n",
    "    # create csv file\n",
    "    stats_dir = \"./aevols/\" + project_name + \"/stats/\"\n",
    "    clean_and_mkdir(stats_dir)\n",
    "    create_csv_file(stats_dir)"
   ]
  },
  {
   "cell_type": "code",
   "execution_count": 81,
   "metadata": {},
   "outputs": [
    {
     "name": "stdout",
     "output_type": "stream",
     "text": [
      "removing previous ./aevols/aevol_0/build/ directory\n",
      "removing previous ./aevols/aevol_1/build/ directory\n",
      "removing previous ./aevols/aevol_2/build/ directory\n",
      "removing previous ./aevols/aevol_3/build/ directory\n",
      "removing previous ./aevols/aevol_4/build/ directory\n"
     ]
    }
   ],
   "source": [
    "# erase previous build\n",
    "for project_name in project_names:\n",
    "    build_dir = \"./aevols/\" + project_name + \"/build/\"\n",
    "    if os.path.exists(build_dir):\n",
    "        print(f\"removing previous {build_dir} directory\")\n",
    "        subprocess.run([\"rm\", \"-rf\", build_dir])"
   ]
  },
  {
   "cell_type": "markdown",
   "metadata": {},
   "source": [
    "## Compiling & Run executables"
   ]
  },
  {
   "cell_type": "code",
   "execution_count": 18,
   "metadata": {},
   "outputs": [
    {
     "name": "stdout",
     "output_type": "stream",
     "text": [
      "make: Entering directory '/home/onyr/Documents/code/OT5_micro-aevol2/src/aevols/aevol_6/build'\n",
      "make[1]: Entering directory '/home/onyr/Documents/code/OT5_micro-aevol2/src/aevols/aevol_6/build'\n",
      "make[2]: Entering directory '/home/onyr/Documents/code/OT5_micro-aevol2/src/aevols/aevol_6/build'\n",
      "Consolidate compiler generated dependencies of target micro_aevol\n",
      "make[2]: Leaving directory '/home/onyr/Documents/code/OT5_micro-aevol2/src/aevols/aevol_6/build'\n",
      "make[2]: Entering directory '/home/onyr/Documents/code/OT5_micro-aevol2/src/aevols/aevol_6/build'\n",
      "[  8%] Building CXX object CMakeFiles/micro_aevol.dir/Abstract_ExpManager.cpp.o\n",
      "[ 16%] Building CXX object CMakeFiles/micro_aevol.dir/ExpManager.cpp.o\n",
      "[ 25%] Building CXX object CMakeFiles/micro_aevol.dir/DnaMutator.cpp.o\n",
      "[ 33%] Building CXX object CMakeFiles/micro_aevol.dir/Organism.cpp.o\n",
      "make[2]: Leaving directory '/home/onyr/Documents/code/OT5_micro-aevol2/src/aevols/aevol_6/build'\n",
      "make[1]: Leaving directory '/home/onyr/Documents/code/OT5_micro-aevol2/src/aevols/aevol_6/build'\n",
      "make: Leaving directory '/home/onyr/Documents/code/OT5_micro-aevol2/src/aevols/aevol_6/build'\n"
     ]
    },
    {
     "name": "stderr",
     "output_type": "stream",
     "text": [
      "/home/onyr/Kokkos/kokkos_install/include/Cuda/Kokkos_Cuda_Parallel_Range.hpp(86): error: calling a __host__ function(\"Organism::compute_phenotype()::[lambda(int) (instance 1)]::operator ()(int) const\") from a __device__ function(\"Kokkos::Impl::ParallelFor< ::Organism::compute_phenotype()   ::[lambda(int) (instance 1)],  ::Kokkos::RangePolicy< ::Kokkos::Cuda > ,  ::Kokkos::Cuda> ::exec_range<void>  const\") is not allowed\n",
      "\n",
      "/home/onyr/Kokkos/kokkos_install/include/Cuda/Kokkos_Cuda_Parallel_Range.hpp(86): error: identifier \"Organism::compute_phenotype()::[lambda(int) (instance 1)]::operator () const\" is undefined in device code\n",
      "\n",
      "/home/onyr/Kokkos/kokkos_install/include/Cuda/Kokkos_Cuda_Parallel_Range.hpp(86): error: calling a __host__ function(\"Organism::compute_phenotype()::[lambda(int) (instance 2)]::operator ()(int) const\") from a __device__ function(\"Kokkos::Impl::ParallelFor< ::Organism::compute_phenotype()   ::[lambda(int) (instance 2)],  ::Kokkos::RangePolicy< ::Kokkos::Cuda > ,  ::Kokkos::Cuda> ::exec_range<void>  const\") is not allowed\n",
      "\n",
      "/home/onyr/Kokkos/kokkos_install/include/Cuda/Kokkos_Cuda_Parallel_Range.hpp(86): error: identifier \"Organism::compute_phenotype()::[lambda(int) (instance 2)]::operator () const\" is undefined in device code\n",
      "\n",
      "4 errors detected in the compilation of \"/home/onyr/Documents/code/OT5_micro-aevol2/src/aevols/aevol_6/Organism.cpp\".\n",
      "make[2]: *** [CMakeFiles/micro_aevol.dir/build.make:146: CMakeFiles/micro_aevol.dir/Organism.cpp.o] Error 1\n",
      "make[1]: *** [CMakeFiles/Makefile2:85: CMakeFiles/micro_aevol.dir/all] Error 2\n",
      "make: *** [Makefile:91: all] Error 2\n"
     ]
    }
   ],
   "source": [
    "# compile\n",
    "project_names =['aevol_6']\n",
    "for project_name in project_names:\n",
    "    build_dir = \"./aevols/\" + project_name + \"/build/\"\n",
    "\n",
    "    # check if build/Makefile exists\n",
    "    if not os.path.exists(build_dir + \"Makefile\"):\n",
    "        clean_and_mkdir(build_dir)\n",
    "        print(f\"Creating new Makefile in {build_dir}\")\n",
    "    \n",
    "        # run cmake to generate makefiles\n",
    "        #subprocess.run([\"cmake\", \"-B\", f\"./aevols/{project_name}/build\", \"-S\", f\"./aevols/{project_name}\", \"-D\", KOKKOS_LIB_CMAKE, \"-DCMAKE_BUILD_TYPE=Debug\"])\n",
    "        subprocess.run([\"cmake\", \"-B\", f\"./aevols/{project_name}/build\", \"-S\", f\"./aevols/{project_name}\", \"-D\", KOKKOS_LIB_CMAKE, \"-DCMAKE_BUILD_TYPE=Release\"])\n",
    "\n",
    "\n",
    "    # run make to compile\n",
    "    subprocess.run([\"make\", \"-C\", f\"./aevols/{project_name}/build\"])"
   ]
  },
  {
   "cell_type": "code",
   "execution_count": 9,
   "metadata": {},
   "outputs": [
    {
     "name": "stdout",
     "output_type": "stream",
     "text": [
      "Running aevol_6 with dna_size=100, mutation_rate=1e-06, world_size=32\n"
     ]
    },
    {
     "name": "stderr",
     "output_type": "stream",
     "text": [
      "Constructor for Kokkos View 'best fitness' has mismatched number of arguments. Number of arguments = 1 but dynamic rank = 0 \n",
      "\n",
      "Backtrace:\n",
      "                  [0x56523b2fae19]\n",
      "                  [0x56523b2ede5e]\n",
      "                  [0x56523b2ede8f]\n",
      "                  [0x56523b2c2c05]\n",
      "                  [0x56523b2c588a]\n",
      "                  [0x56523b2bc581]\n",
      "                  [0x56523b2b43a6]\n",
      "                  [0x7f97d57d7d90]\n",
      "__libc_start_main [0x7f97d57d7e40]\n",
      "                  [0x56523b2b6e05]\n"
     ]
    },
    {
     "name": "stdout",
     "output_type": "stream",
     "text": [
      "Running aevol_6 with dna_size=100, mutation_rate=1e-06, world_size=64\n"
     ]
    },
    {
     "name": "stderr",
     "output_type": "stream",
     "text": [
      "Constructor for Kokkos View 'best fitness' has mismatched number of arguments. Number of arguments = 1 but dynamic rank = 0 \n",
      "\n",
      "Backtrace:\n",
      "                  [0x55d1b0421e19]\n",
      "                  [0x55d1b0414e5e]\n",
      "                  [0x55d1b0414e8f]\n",
      "                  [0x55d1b03e9c05]\n",
      "                  [0x55d1b03ec88a]\n",
      "                  [0x55d1b03e3581]\n",
      "                  [0x55d1b03db3a6]\n",
      "                  [0x7fac91af0d90]\n",
      "__libc_start_main [0x7fac91af0e40]\n",
      "                  [0x55d1b03dde05]\n"
     ]
    },
    {
     "name": "stdout",
     "output_type": "stream",
     "text": [
      "Running aevol_6 with dna_size=100, mutation_rate=1e-05, world_size=32\n"
     ]
    },
    {
     "name": "stderr",
     "output_type": "stream",
     "text": [
      "Constructor for Kokkos View 'best fitness' has mismatched number of arguments. Number of arguments = 1 but dynamic rank = 0 \n",
      "\n",
      "Backtrace:\n",
      "                  [0x55b0156abe19]\n",
      "                  [0x55b01569ee5e]\n",
      "                  [0x55b01569ee8f]\n",
      "                  [0x55b015673c05]\n",
      "                  [0x55b01567688a]\n",
      "                  [0x55b01566d581]\n",
      "                  [0x55b0156653a6]\n",
      "                  [0x7f3978cf0d90]\n",
      "__libc_start_main [0x7f3978cf0e40]\n",
      "                  [0x55b015667e05]\n"
     ]
    },
    {
     "name": "stdout",
     "output_type": "stream",
     "text": [
      "Running aevol_6 with dna_size=100, mutation_rate=1e-05, world_size=64\n"
     ]
    },
    {
     "name": "stderr",
     "output_type": "stream",
     "text": [
      "Constructor for Kokkos View 'best fitness' has mismatched number of arguments. Number of arguments = 1 but dynamic rank = 0 \n",
      "\n",
      "Backtrace:\n",
      "                  [0x55b80423ce19]\n",
      "                  [0x55b80422fe5e]\n",
      "                  [0x55b80422fe8f]\n",
      "                  [0x55b804204c05]\n",
      "                  [0x55b80420788a]\n",
      "                  [0x55b8041fe581]\n",
      "                  [0x55b8041f63a6]\n",
      "                  [0x7f0fbdef0d90]\n",
      "__libc_start_main [0x7f0fbdef0e40]\n",
      "                  [0x55b8041f8e05]\n"
     ]
    },
    {
     "name": "stdout",
     "output_type": "stream",
     "text": [
      "Running aevol_6 with dna_size=250, mutation_rate=1e-06, world_size=32\n"
     ]
    },
    {
     "name": "stderr",
     "output_type": "stream",
     "text": [
      "Constructor for Kokkos View 'best fitness' has mismatched number of arguments. Number of arguments = 1 but dynamic rank = 0 \n",
      "\n",
      "Backtrace:\n",
      "                  [0x564a30b1ee19]\n",
      "                  [0x564a30b11e5e]\n",
      "                  [0x564a30b11e8f]\n",
      "                  [0x564a30ae6c05]\n",
      "                  [0x564a30ae988a]\n",
      "                  [0x564a30ae0581]\n",
      "                  [0x564a30ad83a6]\n",
      "                  [0x7f1023b8dd90]\n",
      "__libc_start_main [0x7f1023b8de40]\n",
      "                  [0x564a30adae05]\n"
     ]
    },
    {
     "name": "stdout",
     "output_type": "stream",
     "text": [
      "Running aevol_6 with dna_size=250, mutation_rate=1e-06, world_size=64\n"
     ]
    },
    {
     "name": "stderr",
     "output_type": "stream",
     "text": [
      "Constructor for Kokkos View 'best fitness' has mismatched number of arguments. Number of arguments = 1 but dynamic rank = 0 \n",
      "\n",
      "Backtrace:\n",
      "                  [0x562a197dce19]\n",
      "                  [0x562a197cfe5e]\n",
      "                  [0x562a197cfe8f]\n",
      "                  [0x562a197a4c05]\n",
      "                  [0x562a197a788a]\n",
      "                  [0x562a1979e581]\n",
      "                  [0x562a197963a6]\n",
      "                  [0x7fc2e52a6d90]\n",
      "__libc_start_main [0x7fc2e52a6e40]\n",
      "                  [0x562a19798e05]\n"
     ]
    },
    {
     "name": "stdout",
     "output_type": "stream",
     "text": [
      "Running aevol_6 with dna_size=250, mutation_rate=1e-05, world_size=32\n"
     ]
    },
    {
     "name": "stderr",
     "output_type": "stream",
     "text": [
      "Constructor for Kokkos View 'best fitness' has mismatched number of arguments. Number of arguments = 1 but dynamic rank = 0 \n",
      "\n",
      "Backtrace:\n",
      "                  [0x55fef33ece19]\n",
      "                  [0x55fef33dfe5e]\n",
      "                  [0x55fef33dfe8f]\n",
      "                  [0x55fef33b4c05]\n",
      "                  [0x55fef33b788a]\n",
      "                  [0x55fef33ae581]\n",
      "                  [0x55fef33a63a6]\n",
      "                  [0x7f1ff51d7d90]\n",
      "__libc_start_main [0x7f1ff51d7e40]\n",
      "                  [0x55fef33a8e05]\n"
     ]
    },
    {
     "name": "stdout",
     "output_type": "stream",
     "text": [
      "Running aevol_6 with dna_size=250, mutation_rate=1e-05, world_size=64\n"
     ]
    },
    {
     "name": "stderr",
     "output_type": "stream",
     "text": [
      "Constructor for Kokkos View 'best fitness' has mismatched number of arguments. Number of arguments = 1 but dynamic rank = 0 \n",
      "\n",
      "Backtrace:\n",
      "                  [0x558e270f0e19]\n",
      "                  [0x558e270e3e5e]\n",
      "                  [0x558e270e3e8f]\n",
      "                  [0x558e270b8c05]\n",
      "                  [0x558e270bb88a]\n",
      "                  [0x558e270b2581]\n",
      "                  [0x558e270aa3a6]\n",
      "                  [0x7f30433d7d90]\n",
      "__libc_start_main [0x7f30433d7e40]\n",
      "                  [0x558e270ace05]\n"
     ]
    }
   ],
   "source": [
    "# execute\n",
    "run_once = False\n",
    "#project_names = ['aevol_4'] # select just one\n",
    "NB_REPEAT = 1\n",
    "for project_name in project_names:\n",
    "    for dna_size in experiment_params[\"dna_sizes\"]:\n",
    "        for mutation_rate in experiment_params[\"mutation_rates\"]:\n",
    "            for world_size in experiment_params[\"world_sizes\"]:\n",
    "                for _ in range(NB_REPEAT):\n",
    "                    print(\"Running {} with dna_size={}, mutation_rate={}, world_size={}\".format(project_name, dna_size, mutation_rate, world_size))\n",
    "                    \n",
    "                    # prepare arguments\n",
    "                    current_dir = os.getcwd()\n",
    "                    program_filepath = current_dir + \"/aevols/\" + project_name + \"/build/\" + EXE_NAME\n",
    "                    args = (program_filepath, \n",
    "                        \"-w\", str(world_size), \n",
    "                        \"-h\", str(world_size),\n",
    "                        \"-g\", str(dna_size),\n",
    "                        \"-m\", str(mutation_rate),\n",
    "                    )\n",
    "                    if project_name == \"aevol_4\" or project_name == \"aevol_5\":\n",
    "                        args += (\"-t\", str(nb_host_threads),)\n",
    "\n",
    "                    # run the executable\n",
    "                    popen = subprocess.Popen(args, stdout=subprocess.PIPE)\n",
    "                    popen.wait()\n",
    "\n",
    "                    # run once only\n",
    "                    if run_once:\n",
    "                        break\n",
    "                if run_once:\n",
    "                    break\n",
    "            if run_once:\n",
    "                break\n",
    "        if run_once:\n",
    "            break\n",
    "    if run_once:\n",
    "        break"
   ]
  },
  {
   "cell_type": "markdown",
   "metadata": {},
   "source": [
    "# Graphs & Analysis"
   ]
  },
  {
   "cell_type": "code",
   "execution_count": 7,
   "metadata": {},
   "outputs": [
    {
     "name": "stdout",
     "output_type": "stream",
     "text": [
      "['aevol_0', 'aevol_1', 'aevol_2', 'aevol_3', 'aevol_4', 'aevol_5']\n"
     ]
    }
   ],
   "source": [
    "project_names= ['aevol_0', 'aevol_1', 'aevol_2', 'aevol_3', 'aevol_4', 'aevol_5', 'aevol_6']\n",
    "print(project_names)"
   ]
  },
  {
   "cell_type": "code",
   "execution_count": 9,
   "metadata": {},
   "outputs": [
    {
     "name": "stderr",
     "output_type": "stream",
     "text": [
      "/tmp/ipykernel_43510/1363348757.py:14: FutureWarning: The frame.append method is deprecated and will be removed from pandas in a future version. Use pandas.concat instead.\n",
      "  df = df.append(df_stats, ignore_index=True)\n",
      "/tmp/ipykernel_43510/1363348757.py:14: FutureWarning: The frame.append method is deprecated and will be removed from pandas in a future version. Use pandas.concat instead.\n",
      "  df = df.append(df_stats, ignore_index=True)\n",
      "/tmp/ipykernel_43510/1363348757.py:14: FutureWarning: The frame.append method is deprecated and will be removed from pandas in a future version. Use pandas.concat instead.\n",
      "  df = df.append(df_stats, ignore_index=True)\n",
      "/tmp/ipykernel_43510/1363348757.py:14: FutureWarning: The frame.append method is deprecated and will be removed from pandas in a future version. Use pandas.concat instead.\n",
      "  df = df.append(df_stats, ignore_index=True)\n",
      "/tmp/ipykernel_43510/1363348757.py:14: FutureWarning: The frame.append method is deprecated and will be removed from pandas in a future version. Use pandas.concat instead.\n",
      "  df = df.append(df_stats, ignore_index=True)\n",
      "/tmp/ipykernel_43510/1363348757.py:14: FutureWarning: The frame.append method is deprecated and will be removed from pandas in a future version. Use pandas.concat instead.\n",
      "  df = df.append(df_stats, ignore_index=True)\n",
      "/tmp/ipykernel_43510/1363348757.py:14: FutureWarning: The frame.append method is deprecated and will be removed from pandas in a future version. Use pandas.concat instead.\n",
      "  df = df.append(df_stats, ignore_index=True)\n"
     ]
    },
    {
     "data": {
      "text/html": [
       "<div>\n",
       "<style scoped>\n",
       "    .dataframe tbody tr th:only-of-type {\n",
       "        vertical-align: middle;\n",
       "    }\n",
       "\n",
       "    .dataframe tbody tr th {\n",
       "        vertical-align: top;\n",
       "    }\n",
       "\n",
       "    .dataframe thead th {\n",
       "        text-align: right;\n",
       "    }\n",
       "</style>\n",
       "<table border=\"1\" class=\"dataframe\">\n",
       "  <thead>\n",
       "    <tr style=\"text-align: right;\">\n",
       "      <th></th>\n",
       "      <th>world_size_width</th>\n",
       "      <th>world_size_height</th>\n",
       "      <th>dna_size</th>\n",
       "      <th>mutation_rate</th>\n",
       "      <th>nb_generations</th>\n",
       "      <th>runtime</th>\n",
       "      <th>version</th>\n",
       "    </tr>\n",
       "  </thead>\n",
       "  <tbody>\n",
       "  </tbody>\n",
       "</table>\n",
       "</div>"
      ],
      "text/plain": [
       "Empty DataFrame\n",
       "Columns: [world_size_width, world_size_height, dna_size, mutation_rate, nb_generations, runtime, version]\n",
       "Index: []"
      ]
     },
     "metadata": {},
     "output_type": "display_data"
    },
    {
     "name": "stdout",
     "output_type": "stream",
     "text": [
      "(0, 7)\n",
      "[]\n",
      "[]\n"
     ]
    }
   ],
   "source": [
    "# get the data from aevol/*/stats/stats.csv\n",
    "import pandas as pd\n",
    "from IPython.display import display\n",
    "\n",
    "df = pd.DataFrame()\n",
    "for project_name in project_names:\n",
    "    stats_dir = \"./aevols/\" + project_name + \"/stats/\"\n",
    "\n",
    "    # add a version column with project_name\n",
    "    df_stats = pd.read_csv(stats_dir + csv_result_file)\n",
    "    df_stats[\"version\"] = project_name\n",
    "\n",
    "    # append to data\n",
    "    df = df.append(df_stats, ignore_index=True)\n",
    "\n",
    "display(df)\n",
    "print(df.shape)\n",
    "print(df[\"version\"].unique())\n",
    "print(df[\"mutation_rate\"].unique())"
   ]
  },
  {
   "cell_type": "code",
   "execution_count": 10,
   "metadata": {},
   "outputs": [
    {
     "name": "stdout",
     "output_type": "stream",
     "text": [
      "{'aevol_0': (0.2980392156862745, 0.4470588235294118, 0.6901960784313725), 'aevol_1': (0.8666666666666667, 0.5176470588235295, 0.3215686274509804), 'aevol_2': (0.3333333333333333, 0.6588235294117647, 0.40784313725490196), 'aevol_3': (0.7686274509803922, 0.3058823529411765, 0.3215686274509804), 'aevol_4': (0.5058823529411764, 0.4470588235294118, 0.7019607843137254), 'aevol_5': (0.5764705882352941, 0.47058823529411764, 0.3764705882352941), 'aevol_6': (0.8549019607843137, 0.5450980392156862, 0.7647058823529411)}\n"
     ]
    },
    {
     "name": "stderr",
     "output_type": "stream",
     "text": [
      "/tmp/ipykernel_43510/4266766203.py:49: UserWarning: Ignoring `palette` because no `hue` variable has been assigned.\n",
      "  g0 = sns.lineplot(\n"
     ]
    },
    {
     "ename": "ValueError",
     "evalue": "Axis limits cannot be NaN or Inf",
     "output_type": "error",
     "traceback": [
      "\u001b[0;31m---------------------------------------------------------------------------\u001b[0m",
      "\u001b[0;31mValueError\u001b[0m                                Traceback (most recent call last)",
      "Cell \u001b[0;32mIn [10], line 77\u001b[0m\n\u001b[1;32m     72\u001b[0m                 g00\u001b[39m.\u001b[39mset(yscale\u001b[39m=\u001b[39m\u001b[39m\"\u001b[39m\u001b[39mlog\u001b[39m\u001b[39m\"\u001b[39m)\n\u001b[1;32m     74\u001b[0m     plt\u001b[39m.\u001b[39mshow()\n\u001b[0;32m---> 77\u001b[0m display_graph(df)\n",
      "Cell \u001b[0;32mIn [10], line 58\u001b[0m, in \u001b[0;36mdisplay_graph\u001b[0;34m(df)\u001b[0m\n\u001b[1;32m     47\u001b[0m df_plot_2 \u001b[39m=\u001b[39m df_plot_1[df_plot_1[\u001b[39m'\u001b[39m\u001b[39mmutation_rate\u001b[39m\u001b[39m'\u001b[39m] \u001b[39m==\u001b[39m mutation_rate]\n\u001b[1;32m     49\u001b[0m g0 \u001b[39m=\u001b[39m sns\u001b[39m.\u001b[39mlineplot(\n\u001b[1;32m     50\u001b[0m     ax\u001b[39m=\u001b[39max[i][j],\n\u001b[1;32m     51\u001b[0m     data\u001b[39m=\u001b[39mdf_plot_2, \n\u001b[0;32m   (...)\u001b[0m\n\u001b[1;32m     56\u001b[0m     style\u001b[39m=\u001b[39m\u001b[39m\"\u001b[39m\u001b[39mversion\u001b[39m\u001b[39m\"\u001b[39m,\n\u001b[1;32m     57\u001b[0m )\n\u001b[0;32m---> 58\u001b[0m g0\u001b[39m.\u001b[39;49mset(ylim\u001b[39m=\u001b[39;49m(df\u001b[39m.\u001b[39;49mruntime\u001b[39m.\u001b[39;49mmin(), df\u001b[39m.\u001b[39;49mruntime\u001b[39m.\u001b[39;49mmax()))\n\u001b[1;32m     59\u001b[0m g0\u001b[39m.\u001b[39mset(yscale\u001b[39m=\u001b[39m\u001b[39m\"\u001b[39m\u001b[39mlog\u001b[39m\u001b[39m\"\u001b[39m)\n\u001b[1;32m     60\u001b[0m g0\u001b[39m.\u001b[39mset(title\u001b[39m=\u001b[39m\u001b[39mf\u001b[39m\u001b[39m\"\u001b[39m\u001b[39mdna_size=\u001b[39m\u001b[39m{\u001b[39;00mdna_size\u001b[39m}\u001b[39;00m\u001b[39m, mutation_rate=\u001b[39m\u001b[39m{\u001b[39;00mmutation_rate\u001b[39m}\u001b[39;00m\u001b[39m\"\u001b[39m)\n",
      "File \u001b[0;32m~/anaconda3/envs/aevol/lib/python3.10/site-packages/matplotlib/artist.py:117\u001b[0m, in \u001b[0;36mArtist.__init_subclass__.<locals>.<lambda>\u001b[0;34m(self, **kwargs)\u001b[0m\n\u001b[1;32m    109\u001b[0m \u001b[39mif\u001b[39;00m \u001b[39mnot\u001b[39;00m \u001b[39mhasattr\u001b[39m(\u001b[39mcls\u001b[39m\u001b[39m.\u001b[39mset, \u001b[39m'\u001b[39m\u001b[39m_autogenerated_signature\u001b[39m\u001b[39m'\u001b[39m):\n\u001b[1;32m    110\u001b[0m     \u001b[39m# Don't overwrite cls.set if the subclass or one of its parents\u001b[39;00m\n\u001b[1;32m    111\u001b[0m     \u001b[39m# has defined a set method set itself.\u001b[39;00m\n\u001b[1;32m    112\u001b[0m     \u001b[39m# If there was no explicit definition, cls.set is inherited from\u001b[39;00m\n\u001b[1;32m    113\u001b[0m     \u001b[39m# the hierarchy of auto-generated set methods, which hold the\u001b[39;00m\n\u001b[1;32m    114\u001b[0m     \u001b[39m# flag _autogenerated_signature.\u001b[39;00m\n\u001b[1;32m    115\u001b[0m     \u001b[39mreturn\u001b[39;00m\n\u001b[0;32m--> 117\u001b[0m \u001b[39mcls\u001b[39m\u001b[39m.\u001b[39mset \u001b[39m=\u001b[39m \u001b[39mlambda\u001b[39;00m \u001b[39mself\u001b[39m, \u001b[39m*\u001b[39m\u001b[39m*\u001b[39mkwargs: Artist\u001b[39m.\u001b[39;49mset(\u001b[39mself\u001b[39;49m, \u001b[39m*\u001b[39;49m\u001b[39m*\u001b[39;49mkwargs)\n\u001b[1;32m    118\u001b[0m \u001b[39mcls\u001b[39m\u001b[39m.\u001b[39mset\u001b[39m.\u001b[39m\u001b[39m__name__\u001b[39m \u001b[39m=\u001b[39m \u001b[39m\"\u001b[39m\u001b[39mset\u001b[39m\u001b[39m\"\u001b[39m\n\u001b[1;32m    119\u001b[0m \u001b[39mcls\u001b[39m\u001b[39m.\u001b[39mset\u001b[39m.\u001b[39m\u001b[39m__qualname__\u001b[39m \u001b[39m=\u001b[39m \u001b[39mf\u001b[39m\u001b[39m\"\u001b[39m\u001b[39m{\u001b[39;00m\u001b[39mcls\u001b[39m\u001b[39m.\u001b[39m\u001b[39m__qualname__\u001b[39m\u001b[39m}\u001b[39;00m\u001b[39m.set\u001b[39m\u001b[39m\"\u001b[39m\n",
      "File \u001b[0;32m~/anaconda3/envs/aevol/lib/python3.10/site-packages/matplotlib/artist.py:1194\u001b[0m, in \u001b[0;36mArtist.set\u001b[0;34m(self, **kwargs)\u001b[0m\n\u001b[1;32m   1190\u001b[0m \u001b[39mdef\u001b[39;00m \u001b[39mset\u001b[39m(\u001b[39mself\u001b[39m, \u001b[39m*\u001b[39m\u001b[39m*\u001b[39mkwargs):\n\u001b[1;32m   1191\u001b[0m     \u001b[39m# docstring and signature are auto-generated via\u001b[39;00m\n\u001b[1;32m   1192\u001b[0m     \u001b[39m# Artist._update_set_signature_and_docstring() at the end of the\u001b[39;00m\n\u001b[1;32m   1193\u001b[0m     \u001b[39m# module.\u001b[39;00m\n\u001b[0;32m-> 1194\u001b[0m     \u001b[39mreturn\u001b[39;00m \u001b[39mself\u001b[39;49m\u001b[39m.\u001b[39;49m_internal_update(cbook\u001b[39m.\u001b[39;49mnormalize_kwargs(kwargs, \u001b[39mself\u001b[39;49m))\n",
      "File \u001b[0;32m~/anaconda3/envs/aevol/lib/python3.10/site-packages/matplotlib/artist.py:1186\u001b[0m, in \u001b[0;36mArtist._internal_update\u001b[0;34m(self, kwargs)\u001b[0m\n\u001b[1;32m   1179\u001b[0m \u001b[39mdef\u001b[39;00m \u001b[39m_internal_update\u001b[39m(\u001b[39mself\u001b[39m, kwargs):\n\u001b[1;32m   1180\u001b[0m     \u001b[39m\"\"\"\u001b[39;00m\n\u001b[1;32m   1181\u001b[0m \u001b[39m    Update artist properties without prenormalizing them, but generating\u001b[39;00m\n\u001b[1;32m   1182\u001b[0m \u001b[39m    errors as if calling `set`.\u001b[39;00m\n\u001b[1;32m   1183\u001b[0m \n\u001b[1;32m   1184\u001b[0m \u001b[39m    The lack of prenormalization is to maintain backcompatibility.\u001b[39;00m\n\u001b[1;32m   1185\u001b[0m \u001b[39m    \"\"\"\u001b[39;00m\n\u001b[0;32m-> 1186\u001b[0m     \u001b[39mreturn\u001b[39;00m \u001b[39mself\u001b[39;49m\u001b[39m.\u001b[39;49m_update_props(\n\u001b[1;32m   1187\u001b[0m         kwargs, \u001b[39m\"\u001b[39;49m\u001b[39m{cls.__name__}\u001b[39;49;00m\u001b[39m.set() got an unexpected keyword argument \u001b[39;49m\u001b[39m\"\u001b[39;49m\n\u001b[1;32m   1188\u001b[0m         \u001b[39m\"\u001b[39;49m\u001b[39m{prop_name!r}\u001b[39;49;00m\u001b[39m\"\u001b[39;49m)\n",
      "File \u001b[0;32m~/anaconda3/envs/aevol/lib/python3.10/site-packages/matplotlib/artist.py:1162\u001b[0m, in \u001b[0;36mArtist._update_props\u001b[0;34m(self, props, errfmt)\u001b[0m\n\u001b[1;32m   1159\u001b[0m             \u001b[39mif\u001b[39;00m \u001b[39mnot\u001b[39;00m callable(func):\n\u001b[1;32m   1160\u001b[0m                 \u001b[39mraise\u001b[39;00m \u001b[39mAttributeError\u001b[39;00m(\n\u001b[1;32m   1161\u001b[0m                     errfmt\u001b[39m.\u001b[39mformat(\u001b[39mcls\u001b[39m\u001b[39m=\u001b[39m\u001b[39mtype\u001b[39m(\u001b[39mself\u001b[39m), prop_name\u001b[39m=\u001b[39mk))\n\u001b[0;32m-> 1162\u001b[0m             ret\u001b[39m.\u001b[39mappend(func(v))\n\u001b[1;32m   1163\u001b[0m \u001b[39mif\u001b[39;00m ret:\n\u001b[1;32m   1164\u001b[0m     \u001b[39mself\u001b[39m\u001b[39m.\u001b[39mpchanged()\n",
      "File \u001b[0;32m~/anaconda3/envs/aevol/lib/python3.10/site-packages/matplotlib/_api/deprecation.py:454\u001b[0m, in \u001b[0;36mmake_keyword_only.<locals>.wrapper\u001b[0;34m(*args, **kwargs)\u001b[0m\n\u001b[1;32m    448\u001b[0m \u001b[39mif\u001b[39;00m \u001b[39mlen\u001b[39m(args) \u001b[39m>\u001b[39m name_idx:\n\u001b[1;32m    449\u001b[0m     warn_deprecated(\n\u001b[1;32m    450\u001b[0m         since, message\u001b[39m=\u001b[39m\u001b[39m\"\u001b[39m\u001b[39mPassing the \u001b[39m\u001b[39m%(name)s\u001b[39;00m\u001b[39m \u001b[39m\u001b[39m%(obj_type)s\u001b[39;00m\u001b[39m \u001b[39m\u001b[39m\"\u001b[39m\n\u001b[1;32m    451\u001b[0m         \u001b[39m\"\u001b[39m\u001b[39mpositionally is deprecated since Matplotlib \u001b[39m\u001b[39m%(since)s\u001b[39;00m\u001b[39m; the \u001b[39m\u001b[39m\"\u001b[39m\n\u001b[1;32m    452\u001b[0m         \u001b[39m\"\u001b[39m\u001b[39mparameter will become keyword-only \u001b[39m\u001b[39m%(removal)s\u001b[39;00m\u001b[39m.\u001b[39m\u001b[39m\"\u001b[39m,\n\u001b[1;32m    453\u001b[0m         name\u001b[39m=\u001b[39mname, obj_type\u001b[39m=\u001b[39m\u001b[39mf\u001b[39m\u001b[39m\"\u001b[39m\u001b[39mparameter of \u001b[39m\u001b[39m{\u001b[39;00mfunc\u001b[39m.\u001b[39m\u001b[39m__name__\u001b[39m\u001b[39m}\u001b[39;00m\u001b[39m()\u001b[39m\u001b[39m\"\u001b[39m)\n\u001b[0;32m--> 454\u001b[0m \u001b[39mreturn\u001b[39;00m func(\u001b[39m*\u001b[39;49margs, \u001b[39m*\u001b[39;49m\u001b[39m*\u001b[39;49mkwargs)\n",
      "File \u001b[0;32m~/anaconda3/envs/aevol/lib/python3.10/site-packages/matplotlib/axes/_base.py:3925\u001b[0m, in \u001b[0;36m_AxesBase.set_ylim\u001b[0;34m(self, bottom, top, emit, auto, ymin, ymax)\u001b[0m\n\u001b[1;32m   3923\u001b[0m         \u001b[39mraise\u001b[39;00m \u001b[39mTypeError\u001b[39;00m(\u001b[39m\"\u001b[39m\u001b[39mCannot pass both \u001b[39m\u001b[39m'\u001b[39m\u001b[39mtop\u001b[39m\u001b[39m'\u001b[39m\u001b[39m and \u001b[39m\u001b[39m'\u001b[39m\u001b[39mymax\u001b[39m\u001b[39m'\u001b[39m\u001b[39m\"\u001b[39m)\n\u001b[1;32m   3924\u001b[0m     top \u001b[39m=\u001b[39m ymax\n\u001b[0;32m-> 3925\u001b[0m \u001b[39mreturn\u001b[39;00m \u001b[39mself\u001b[39;49m\u001b[39m.\u001b[39;49myaxis\u001b[39m.\u001b[39;49m_set_lim(bottom, top, emit\u001b[39m=\u001b[39;49memit, auto\u001b[39m=\u001b[39;49mauto)\n",
      "File \u001b[0;32m~/anaconda3/envs/aevol/lib/python3.10/site-packages/matplotlib/axis.py:1112\u001b[0m, in \u001b[0;36mAxis._set_lim\u001b[0;34m(self, v0, v1, emit, auto)\u001b[0m\n\u001b[1;32m   1108\u001b[0m name, \u001b[39m=\u001b[39m [name \u001b[39mfor\u001b[39;00m name, axis \u001b[39min\u001b[39;00m \u001b[39mself\u001b[39m\u001b[39m.\u001b[39maxes\u001b[39m.\u001b[39m_axis_map\u001b[39m.\u001b[39mitems()\n\u001b[1;32m   1109\u001b[0m          \u001b[39mif\u001b[39;00m axis \u001b[39mis\u001b[39;00m \u001b[39mself\u001b[39m]  \u001b[39m# The axis name.\u001b[39;00m\n\u001b[1;32m   1111\u001b[0m \u001b[39mself\u001b[39m\u001b[39m.\u001b[39maxes\u001b[39m.\u001b[39m_process_unit_info([(name, (v0, v1))], convert\u001b[39m=\u001b[39m\u001b[39mFalse\u001b[39;00m)\n\u001b[0;32m-> 1112\u001b[0m v0 \u001b[39m=\u001b[39m \u001b[39mself\u001b[39;49m\u001b[39m.\u001b[39;49maxes\u001b[39m.\u001b[39;49m_validate_converted_limits(v0, \u001b[39mself\u001b[39;49m\u001b[39m.\u001b[39;49mconvert_units)\n\u001b[1;32m   1113\u001b[0m v1 \u001b[39m=\u001b[39m \u001b[39mself\u001b[39m\u001b[39m.\u001b[39maxes\u001b[39m.\u001b[39m_validate_converted_limits(v1, \u001b[39mself\u001b[39m\u001b[39m.\u001b[39mconvert_units)\n\u001b[1;32m   1115\u001b[0m \u001b[39mif\u001b[39;00m v0 \u001b[39mis\u001b[39;00m \u001b[39mNone\u001b[39;00m \u001b[39mor\u001b[39;00m v1 \u001b[39mis\u001b[39;00m \u001b[39mNone\u001b[39;00m:\n\u001b[1;32m   1116\u001b[0m     \u001b[39m# Axes init calls set_xlim(0, 1) before get_xlim() can be called,\u001b[39;00m\n\u001b[1;32m   1117\u001b[0m     \u001b[39m# so only grab the limits if we really need them.\u001b[39;00m\n",
      "File \u001b[0;32m~/anaconda3/envs/aevol/lib/python3.10/site-packages/matplotlib/axes/_base.py:3613\u001b[0m, in \u001b[0;36m_AxesBase._validate_converted_limits\u001b[0;34m(self, limit, convert)\u001b[0m\n\u001b[1;32m   3610\u001b[0m converted_limit \u001b[39m=\u001b[39m convert(limit)\n\u001b[1;32m   3611\u001b[0m \u001b[39mif\u001b[39;00m (\u001b[39misinstance\u001b[39m(converted_limit, Real)\n\u001b[1;32m   3612\u001b[0m         \u001b[39mand\u001b[39;00m \u001b[39mnot\u001b[39;00m np\u001b[39m.\u001b[39misfinite(converted_limit)):\n\u001b[0;32m-> 3613\u001b[0m     \u001b[39mraise\u001b[39;00m \u001b[39mValueError\u001b[39;00m(\u001b[39m\"\u001b[39m\u001b[39mAxis limits cannot be NaN or Inf\u001b[39m\u001b[39m\"\u001b[39m)\n\u001b[1;32m   3614\u001b[0m \u001b[39mreturn\u001b[39;00m converted_limit\n",
      "\u001b[0;31mValueError\u001b[0m: Axis limits cannot be NaN or Inf"
     ]
    },
    {
     "data": {
      "image/png": "[encoded data removed]",
      "text/plain": [
       "<Figure size 1800x1600 with 4 Axes>"
      ]
     },
     "metadata": {},
     "output_type": "display_data"
    }
   ],
   "source": [
    "# plot the data\n",
    "import matplotlib.pyplot as plt\n",
    "import numpy as np\n",
    "from IPython.display import display\n",
    "from numpy import genfromtxt\n",
    "import itertools\n",
    "import pandas as pd\n",
    "import seaborn as sns\n",
    "\n",
    "sns.set()\n",
    "\n",
    "# filter out 0 runtime values\n",
    "df = df[df.runtime > 0]\n",
    "\n",
    "# create a palette for every version\n",
    "palette = itertools.cycle(sns.color_palette(\n",
    "    n_colors=len(project_names),\n",
    "))\n",
    "version_palette = {}\n",
    "for project_name in project_names:\n",
    "    version_palette[project_name] = next(palette)\n",
    "print(version_palette)\n",
    "\n",
    "\n",
    "# display the graph\n",
    "def display_graph(df: pd.DataFrame):\n",
    "    COLUMNS = len(experiment_params[\"mutation_rates\"])\n",
    "    ROWS = len(experiment_params[\"dna_sizes\"])\n",
    "\n",
    "    # display graphs\n",
    "    fig, ax = plt.subplots(ROWS, COLUMNS, figsize=(18,16))\n",
    "    fig.suptitle(\"Superposed Graphs of Matrix-Vector operation computing, for different program versions\")\n",
    "\n",
    "    for i in range(ROWS):\n",
    "        dna_size = experiment_params[\"dna_sizes\"][i]\n",
    "\n",
    "        for j in range(COLUMNS):\n",
    "            mutation_rate = experiment_params[\"mutation_rates\"][j]\n",
    "\n",
    "            for k in range(0, len(version_palette.keys())):\n",
    "                # print version graph data\n",
    "                graph_version = list(version_palette.keys())[k]\n",
    "                \n",
    "                # filter out data\n",
    "                df_plot_0 = df[df['version'] == graph_version]\n",
    "                df_plot_1 = df_plot_0[df_plot_0['dna_size'] == dna_size]\n",
    "                df_plot_2 = df_plot_1[df_plot_1['mutation_rate'] == mutation_rate]\n",
    "                \n",
    "                g0 = sns.lineplot(\n",
    "                    ax=ax[i][j],\n",
    "                    data=df_plot_2, \n",
    "                    x=\"world_size_width\",\n",
    "                    y=\"runtime\", \n",
    "                    hue=\"version\",\n",
    "                    palette=version_palette,\n",
    "                    style=\"version\",\n",
    "                )\n",
    "                g0.set(ylim=(df.runtime.min(), df.runtime.max()))\n",
    "                g0.set(yscale=\"log\")\n",
    "                g0.set(title=f\"dna_size={dna_size}, mutation_rate={mutation_rate}\")\n",
    "                g0.set(xlabel=\"World size\", ylabel=\"runtime (s)\")\n",
    "                g00 = sns.scatterplot(\n",
    "                    ax=ax[i][j],\n",
    "                    data=df_plot_2, \n",
    "                    x=\"world_size_width\",\n",
    "                    y=\"runtime\", \n",
    "                    hue=\"version\",\n",
    "                    palette=version_palette,\n",
    "                    legend=False,\n",
    "                )\n",
    "                g00.set(ylim=(df.runtime.min(), df.runtime.max()))\n",
    "                g00.set(yscale=\"log\")\n",
    "        \n",
    "    plt.show()\n",
    "\n",
    "\n",
    "display_graph(df)"
   ]
  },
  {
   "attachments": {},
   "cell_type": "markdown",
   "metadata": {},
   "source": [
    "#### Aevol 1 optimization: bitset\n",
    "The bitset optimisation is useful when the mutation rate increases. This is because it optimizes the copies and data handling. However, a simple vector is still better for small values of the params.\n",
    "\n",
    "We discovered it is almost not worth it to parallelize the initial search for a fitting organism."
   ]
  }
 ],
 "metadata": {
  "kernelspec": {
   "display_name": "Python 3.10.6 ('aevol')",
   "language": "python",
   "name": "python3"
  },
  "language_info": {
   "codemirror_mode": {
    "name": "ipython",
    "version": 3
   },
   "file_extension": ".py",
   "mimetype": "text/x-python",
   "name": "python",
   "nbconvert_exporter": "python",
   "pygments_lexer": "ipython3",
   "version": "3.10.6"
  },
  "orig_nbformat": 4,
  "vscode": {
   "interpreter": {
    "hash": "f8ea3645522cf11f29217899e2a80e6ee020ee43b42396f8b0082f79c660ad30"
   }
  }
 },
 "nbformat": 4,
 "nbformat_minor": 2
}
